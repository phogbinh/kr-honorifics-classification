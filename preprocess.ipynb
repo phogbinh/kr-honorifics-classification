{
 "cells": [
  {
   "cell_type": "markdown",
   "id": "1486d556",
   "metadata": {},
   "source": [
    "# Preprocess train data"
   ]
  },
  {
   "cell_type": "markdown",
   "id": "53f54459",
   "metadata": {},
   "source": [
    "## Load data"
   ]
  },
  {
   "cell_type": "code",
   "execution_count": 1,
   "id": "ed332466",
   "metadata": {
    "scrolled": true
   },
   "outputs": [
    {
     "data": {
      "text/html": [
       "<div>\n",
       "<style scoped>\n",
       "    .dataframe tbody tr th:only-of-type {\n",
       "        vertical-align: middle;\n",
       "    }\n",
       "\n",
       "    .dataframe tbody tr th {\n",
       "        vertical-align: top;\n",
       "    }\n",
       "\n",
       "    .dataframe thead th {\n",
       "        text-align: right;\n",
       "    }\n",
       "</style>\n",
       "<table border=\"1\" class=\"dataframe\">\n",
       "  <thead>\n",
       "    <tr style=\"text-align: right;\">\n",
       "      <th></th>\n",
       "      <th>Q</th>\n",
       "      <th>A</th>\n",
       "      <th>label</th>\n",
       "    </tr>\n",
       "  </thead>\n",
       "  <tbody>\n",
       "    <tr>\n",
       "      <th>0</th>\n",
       "      <td>내일 반품할 노트북이 삼성인지 엘지인지 알려주세요</td>\n",
       "      <td>저기 내일 반품할 노트북이 삼성이니 엘지니</td>\n",
       "      <td>0</td>\n",
       "    </tr>\n",
       "    <tr>\n",
       "      <th>1</th>\n",
       "      <td>내일 삼성노트북을 반품할거에요 엘지노트북을 반품할거에요</td>\n",
       "      <td>야 내일 삼성노트북 반품할거냐 엘지노트북 반품할거냐</td>\n",
       "      <td>0</td>\n",
       "    </tr>\n",
       "    <tr>\n",
       "      <th>2</th>\n",
       "      <td>내일 삼성노트북이랑 엘지노트북 중에 어떤 노트북을 반품하는거에요</td>\n",
       "      <td>야 내일 삼성노트북이랑 엘지노트북 중에 어떤 노트북 반품하는거냐</td>\n",
       "      <td>0</td>\n",
       "    </tr>\n",
       "    <tr>\n",
       "      <th>3</th>\n",
       "      <td>혹시 내일 반품할 노트북이 삼성과 엘지 중에 무엇인지 아시나요</td>\n",
       "      <td>저기 내일 반품할 노트북이 삼성이랑 엘지 중에 뭔지 알고있니</td>\n",
       "      <td>0</td>\n",
       "    </tr>\n",
       "    <tr>\n",
       "      <th>4</th>\n",
       "      <td>내일 노트북 반품이 삼성노트북인지 엘지노트북인지 확인부탁드립니다</td>\n",
       "      <td>저기 내일 노트북 반품하는게 삼성건지 엘지건지 확인좀 해봐</td>\n",
       "      <td>0</td>\n",
       "    </tr>\n",
       "  </tbody>\n",
       "</table>\n",
       "</div>"
      ],
      "text/plain": [
       "                                     Q                                    A  \\\n",
       "0          내일 반품할 노트북이 삼성인지 엘지인지 알려주세요              저기 내일 반품할 노트북이 삼성이니 엘지니   \n",
       "1       내일 삼성노트북을 반품할거에요 엘지노트북을 반품할거에요         야 내일 삼성노트북 반품할거냐 엘지노트북 반품할거냐   \n",
       "2  내일 삼성노트북이랑 엘지노트북 중에 어떤 노트북을 반품하는거에요  야 내일 삼성노트북이랑 엘지노트북 중에 어떤 노트북 반품하는거냐   \n",
       "3   혹시 내일 반품할 노트북이 삼성과 엘지 중에 무엇인지 아시나요    저기 내일 반품할 노트북이 삼성이랑 엘지 중에 뭔지 알고있니   \n",
       "4  내일 노트북 반품이 삼성노트북인지 엘지노트북인지 확인부탁드립니다     저기 내일 노트북 반품하는게 삼성건지 엘지건지 확인좀 해봐   \n",
       "\n",
       "   label  \n",
       "0      0  \n",
       "1      0  \n",
       "2      0  \n",
       "3      0  \n",
       "4      0  "
      ]
     },
     "execution_count": 1,
     "metadata": {},
     "output_type": "execute_result"
    }
   ],
   "source": [
    "import pandas as pd\n",
    "\n",
    "df = pd.read_csv(\"data/style_train.txt\")\n",
    "df.head()"
   ]
  },
  {
   "cell_type": "markdown",
   "id": "96aba72b",
   "metadata": {},
   "source": [
    "## Set sentences"
   ]
  },
  {
   "cell_type": "code",
   "execution_count": 2,
   "id": "898a5aed",
   "metadata": {},
   "outputs": [
    {
     "data": {
      "text/plain": [
       "24000"
      ]
     },
     "execution_count": 2,
     "metadata": {},
     "output_type": "execute_result"
    }
   ],
   "source": [
    "sents = pd.concat([df[\"Q\"], df[\"A\"]], ignore_index=True)\n",
    "len(sents)"
   ]
  },
  {
   "cell_type": "code",
   "execution_count": 3,
   "id": "e65f6fa3",
   "metadata": {},
   "outputs": [
    {
     "data": {
      "text/plain": [
       "'혹시 내일 반품할 노트북이 삼성과 엘지 중에 무엇인지 아시나요'"
      ]
     },
     "execution_count": 3,
     "metadata": {},
     "output_type": "execute_result"
    }
   ],
   "source": [
    "sents.at[3]"
   ]
  },
  {
   "cell_type": "code",
   "execution_count": 4,
   "id": "b47a4db5",
   "metadata": {},
   "outputs": [
    {
     "data": {
      "text/plain": [
       "'저기 내일 반품할 노트북이 삼성이랑 엘지 중에 뭔지 알고있니'"
      ]
     },
     "execution_count": 4,
     "metadata": {},
     "output_type": "execute_result"
    }
   ],
   "source": [
    "sents.at[12003]"
   ]
  },
  {
   "cell_type": "markdown",
   "id": "7ff8f2a5",
   "metadata": {},
   "source": [
    "## Set honorifics"
   ]
  },
  {
   "cell_type": "code",
   "execution_count": 5,
   "id": "7fc05b5a",
   "metadata": {},
   "outputs": [
    {
     "data": {
      "text/plain": [
       "24000"
      ]
     },
     "execution_count": 5,
     "metadata": {},
     "output_type": "execute_result"
    }
   ],
   "source": [
    "honorifics = [1 if idx < len(sents) / 2 else 0 for idx in range(0, len(sents))]\n",
    "len(honorifics)"
   ]
  },
  {
   "cell_type": "code",
   "execution_count": 6,
   "id": "c232a15e",
   "metadata": {},
   "outputs": [
    {
     "data": {
      "text/plain": [
       "[1, 1, 1, 1, 1]"
      ]
     },
     "execution_count": 6,
     "metadata": {},
     "output_type": "execute_result"
    }
   ],
   "source": [
    "honorifics[:5]"
   ]
  },
  {
   "cell_type": "code",
   "execution_count": 7,
   "id": "cb26f14f",
   "metadata": {},
   "outputs": [
    {
     "data": {
      "text/plain": [
       "1"
      ]
     },
     "execution_count": 7,
     "metadata": {},
     "output_type": "execute_result"
    }
   ],
   "source": [
    "honorifics[11999]"
   ]
  },
  {
   "cell_type": "code",
   "execution_count": 8,
   "id": "ede6c8c9",
   "metadata": {},
   "outputs": [
    {
     "data": {
      "text/plain": [
       "[0, 0, 0, 0, 0]"
      ]
     },
     "execution_count": 8,
     "metadata": {},
     "output_type": "execute_result"
    }
   ],
   "source": [
    "honorifics[12000:12005]"
   ]
  },
  {
   "cell_type": "markdown",
   "id": "78428f3e",
   "metadata": {},
   "source": [
    "## Set sentence-honorific"
   ]
  },
  {
   "cell_type": "code",
   "execution_count": 9,
   "id": "0381b0a1",
   "metadata": {},
   "outputs": [
    {
     "data": {
      "text/plain": [
       "24000"
      ]
     },
     "execution_count": 9,
     "metadata": {},
     "output_type": "execute_result"
    }
   ],
   "source": [
    "sent_honor = pd.DataFrame({\"sentence\": sents, \"honorific\": honorifics})\n",
    "len(sent_honor)"
   ]
  },
  {
   "cell_type": "code",
   "execution_count": 10,
   "id": "597cdbc2",
   "metadata": {},
   "outputs": [
    {
     "data": {
      "text/html": [
       "<div>\n",
       "<style scoped>\n",
       "    .dataframe tbody tr th:only-of-type {\n",
       "        vertical-align: middle;\n",
       "    }\n",
       "\n",
       "    .dataframe tbody tr th {\n",
       "        vertical-align: top;\n",
       "    }\n",
       "\n",
       "    .dataframe thead th {\n",
       "        text-align: right;\n",
       "    }\n",
       "</style>\n",
       "<table border=\"1\" class=\"dataframe\">\n",
       "  <thead>\n",
       "    <tr style=\"text-align: right;\">\n",
       "      <th></th>\n",
       "      <th>sentence</th>\n",
       "      <th>honorific</th>\n",
       "    </tr>\n",
       "  </thead>\n",
       "  <tbody>\n",
       "    <tr>\n",
       "      <th>0</th>\n",
       "      <td>내일 반품할 노트북이 삼성인지 엘지인지 알려주세요</td>\n",
       "      <td>1</td>\n",
       "    </tr>\n",
       "    <tr>\n",
       "      <th>1</th>\n",
       "      <td>내일 삼성노트북을 반품할거에요 엘지노트북을 반품할거에요</td>\n",
       "      <td>1</td>\n",
       "    </tr>\n",
       "    <tr>\n",
       "      <th>2</th>\n",
       "      <td>내일 삼성노트북이랑 엘지노트북 중에 어떤 노트북을 반품하는거에요</td>\n",
       "      <td>1</td>\n",
       "    </tr>\n",
       "    <tr>\n",
       "      <th>3</th>\n",
       "      <td>혹시 내일 반품할 노트북이 삼성과 엘지 중에 무엇인지 아시나요</td>\n",
       "      <td>1</td>\n",
       "    </tr>\n",
       "    <tr>\n",
       "      <th>4</th>\n",
       "      <td>내일 노트북 반품이 삼성노트북인지 엘지노트북인지 확인부탁드립니다</td>\n",
       "      <td>1</td>\n",
       "    </tr>\n",
       "  </tbody>\n",
       "</table>\n",
       "</div>"
      ],
      "text/plain": [
       "                              sentence  honorific\n",
       "0          내일 반품할 노트북이 삼성인지 엘지인지 알려주세요          1\n",
       "1       내일 삼성노트북을 반품할거에요 엘지노트북을 반품할거에요          1\n",
       "2  내일 삼성노트북이랑 엘지노트북 중에 어떤 노트북을 반품하는거에요          1\n",
       "3   혹시 내일 반품할 노트북이 삼성과 엘지 중에 무엇인지 아시나요          1\n",
       "4  내일 노트북 반품이 삼성노트북인지 엘지노트북인지 확인부탁드립니다          1"
      ]
     },
     "execution_count": 10,
     "metadata": {},
     "output_type": "execute_result"
    }
   ],
   "source": [
    "sent_honor.head()"
   ]
  },
  {
   "cell_type": "code",
   "execution_count": 11,
   "id": "e6fab6bf",
   "metadata": {},
   "outputs": [
    {
     "data": {
      "text/plain": [
       "sentence     저기 내일 반품할 노트북이 삼성이니 엘지니\n",
       "honorific                          0\n",
       "Name: 12000, dtype: object"
      ]
     },
     "execution_count": 11,
     "metadata": {},
     "output_type": "execute_result"
    }
   ],
   "source": [
    "sent_honor.iloc[12000]"
   ]
  },
  {
   "cell_type": "code",
   "execution_count": 12,
   "id": "c1231c1d",
   "metadata": {},
   "outputs": [],
   "source": [
    "sent_honor.to_csv(\"train.csv\", index=False)"
   ]
  },
  {
   "cell_type": "markdown",
   "id": "e080cdfc",
   "metadata": {},
   "source": [
    "# Preprocess evaluation and test data"
   ]
  },
  {
   "cell_type": "code",
   "execution_count": 13,
   "id": "35addcab",
   "metadata": {},
   "outputs": [],
   "source": [
    "def preprocess(input_filepath, output_filepath):\n",
    "  df = pd.read_csv(input_filepath)\n",
    "  sents = pd.concat([df[\"Q\"], df[\"A\"]], ignore_index=True)\n",
    "  honorifics = [1 if idx < len(sents) / 2 else 0 for idx in range(0, len(sents))]\n",
    "  sent_honor = pd.DataFrame({\"sentence\": sents, \"honorific\": honorifics})\n",
    "  sent_honor.to_csv(output_filepath, index=False)\n",
    "  \n",
    "preprocess(\"data/style_eval.txt\", \"eval.csv\")\n",
    "preprocess(\"data/style_test.txt\", \"test.csv\")"
   ]
  }
 ],
 "metadata": {
  "kernelspec": {
   "display_name": "Python 3 (ipykernel)",
   "language": "python",
   "name": "python3"
  },
  "language_info": {
   "codemirror_mode": {
    "name": "ipython",
    "version": 3
   },
   "file_extension": ".py",
   "mimetype": "text/x-python",
   "name": "python",
   "nbconvert_exporter": "python",
   "pygments_lexer": "ipython3",
   "version": "3.8.15"
  }
 },
 "nbformat": 4,
 "nbformat_minor": 5
}
